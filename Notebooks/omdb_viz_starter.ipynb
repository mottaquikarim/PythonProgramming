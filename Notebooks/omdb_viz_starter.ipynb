{
  "nbformat": 4,
  "nbformat_minor": 0,
  "metadata": {
    "colab": {
      "name": "omdb_starter.ipynb",
      "version": "0.3.2",
      "provenance": []
    },
    "language_info": {
      "codemirror_mode": {
        "name": "ipython",
        "version": 3
      },
      "file_extension": ".py",
      "mimetype": "text/x-python",
      "name": "python",
      "nbconvert_exporter": "python",
      "pygments_lexer": "ipython3",
      "version": "3.6.5"
    },
    "kernelspec": {
      "display_name": "Python 3",
      "language": "python",
      "name": "python3"
    }
  },
  "cells": [
    {
      "cell_type": "markdown",
      "metadata": {
        "id": "view-in-github",
        "colab_type": "text"
      },
      "source": [
        "<a href=\"https://colab.research.google.com/github/mottaquikarim/PythonProgramming/blob/master/app/src/Notebooks/omdb_viz_starter.ipynb\" target=\"_parent\"><img src=\"https://colab.research.google.com/assets/colab-badge.svg\" alt=\"Open In Colab\"/></a>"
      ]
    },
    {
      "cell_type": "markdown",
      "metadata": {
        "id": "0n_ZwuEDSRwf",
        "colab_type": "text"
      },
      "source": [
        "## The Dataset\n",
        "\n",
        "We'll work with a dataset on the top [IMDB movies](https://www.imdb.com/search/title?count=100&groups=top_1000&sort=user_rating), as rated by IMDB.\n",
        "\n",
        "\n",
        "Specifically, we have a CSV that contains:\n",
        "- IMDB star rating\n",
        "- Movie title\n",
        "- Year\n",
        "- Content rating\n",
        "- Genre\n",
        "- Duration\n",
        "- Gross\n",
        "\n",
        "_[Details available at the above link]_\n"
      ]
    },
    {
      "cell_type": "markdown",
      "metadata": {
        "id": "F7FnKXCiSRwg",
        "colab_type": "text"
      },
      "source": [
        "### Import our necessary libraries"
      ]
    },
    {
      "cell_type": "code",
      "metadata": {
        "id": "X6Jdq0a5SRwh",
        "colab_type": "code",
        "colab": {}
      },
      "source": [
        "import pandas as pd\n",
        "import numpy as np\n",
        "import matplotlib as plt\n",
        "import re\n",
        "%matplotlib inline"
      ],
      "execution_count": 0,
      "outputs": []
    },
    {
      "cell_type": "markdown",
      "metadata": {
        "id": "a2hmiYjySRwk",
        "colab_type": "text"
      },
      "source": [
        "### Read in the dataset\n",
        "\n",
        "First, read in the dataset, called `movies.csv` into a DataFrame called \"movies.\" It's in the `./data` folder."
      ]
    },
    {
      "cell_type": "code",
      "metadata": {
        "id": "OIZ18tC4SRwl",
        "colab_type": "code",
        "colab": {}
      },
      "source": [
        ""
      ],
      "execution_count": 0,
      "outputs": []
    },
    {
      "cell_type": "markdown",
      "metadata": {
        "id": "eegPEb2lSRwn",
        "colab_type": "text"
      },
      "source": [
        "## Check the dataset basics\n",
        "\n",
        "Let's first explore our dataset to verify we have what we expect."
      ]
    },
    {
      "cell_type": "markdown",
      "metadata": {
        "id": "oyMV-JiVSRwn",
        "colab_type": "text"
      },
      "source": [
        "Print the first five rows."
      ]
    },
    {
      "cell_type": "code",
      "metadata": {
        "id": "ig3V_MCHSRwo",
        "colab_type": "code",
        "colab": {}
      },
      "source": [
        ""
      ],
      "execution_count": 0,
      "outputs": []
    },
    {
      "cell_type": "markdown",
      "metadata": {
        "id": "UP6rh23eSRwq",
        "colab_type": "text"
      },
      "source": [
        "How many rows and columns are in the datset?"
      ]
    },
    {
      "cell_type": "code",
      "metadata": {
        "id": "vH-xkRlkSRwr",
        "colab_type": "code",
        "colab": {}
      },
      "source": [
        ""
      ],
      "execution_count": 0,
      "outputs": []
    },
    {
      "cell_type": "markdown",
      "metadata": {
        "id": "Ex3O_scrSRwt",
        "colab_type": "text"
      },
      "source": [
        "What are the column names?"
      ]
    },
    {
      "cell_type": "code",
      "metadata": {
        "id": "kansDlSOSRwu",
        "colab_type": "code",
        "colab": {}
      },
      "source": [
        ""
      ],
      "execution_count": 0,
      "outputs": []
    },
    {
      "cell_type": "markdown",
      "metadata": {
        "id": "I-x5nu-lSRww",
        "colab_type": "text"
      },
      "source": [
        "How many unique genres are there?"
      ]
    },
    {
      "cell_type": "code",
      "metadata": {
        "id": "9FRLqcjISRwx",
        "colab_type": "code",
        "colab": {}
      },
      "source": [
        ""
      ],
      "execution_count": 0,
      "outputs": []
    },
    {
      "cell_type": "markdown",
      "metadata": {
        "id": "RRukgsOiSRw0",
        "colab_type": "text"
      },
      "source": [
        "How many movies are there per genre?"
      ]
    },
    {
      "cell_type": "code",
      "metadata": {
        "id": "B49-0QfiSRw2",
        "colab_type": "code",
        "colab": {}
      },
      "source": [
        ""
      ],
      "execution_count": 0,
      "outputs": []
    },
    {
      "cell_type": "markdown",
      "metadata": {
        "id": "V-CSMsoKSRxq",
        "colab_type": "text"
      },
      "source": [
        "## Exploratory data analysis with visualizations\n",
        "\n",
        "For each of these prompts, create a plot to visualize the answer. Consider what plot is *most appropriate* to explore the given prompt.\n"
      ]
    },
    {
      "cell_type": "markdown",
      "metadata": {
        "id": "GGMmPFjQSRxr",
        "colab_type": "text"
      },
      "source": [
        "What is the relationship between IMDB ratings and Rotten Tomato ratings?"
      ]
    },
    {
      "cell_type": "code",
      "metadata": {
        "id": "HU-_soaySRxr",
        "colab_type": "code",
        "colab": {}
      },
      "source": [
        ""
      ],
      "execution_count": 0,
      "outputs": []
    },
    {
      "cell_type": "markdown",
      "metadata": {
        "id": "Eib4UBBaSRxt",
        "colab_type": "text"
      },
      "source": [
        "What is the relationship between IMDB rating and movie duration?"
      ]
    },
    {
      "cell_type": "code",
      "metadata": {
        "id": "N1syH9DgSRxt",
        "colab_type": "code",
        "colab": {}
      },
      "source": [
        ""
      ],
      "execution_count": 0,
      "outputs": []
    },
    {
      "cell_type": "markdown",
      "metadata": {
        "id": "YSWafuLiSRxw",
        "colab_type": "text"
      },
      "source": [
        "How many movies are there in each genre category? (Remember to create a plot here)"
      ]
    },
    {
      "cell_type": "code",
      "metadata": {
        "id": "RTGtQc5uSRxx",
        "colab_type": "code",
        "colab": {}
      },
      "source": [
        ""
      ],
      "execution_count": 0,
      "outputs": []
    },
    {
      "cell_type": "markdown",
      "metadata": {
        "id": "mD9Fl4y7SRxy",
        "colab_type": "text"
      },
      "source": [
        "What does the distribution of Rotten Tomatoes ratings look like?"
      ]
    },
    {
      "cell_type": "code",
      "metadata": {
        "id": "0Cy0P1JJSRx0",
        "colab_type": "code",
        "colab": {}
      },
      "source": [
        ""
      ],
      "execution_count": 0,
      "outputs": []
    },
    {
      "cell_type": "markdown",
      "metadata": {
        "id": "_MywLppOSRx2",
        "colab_type": "text"
      },
      "source": [
        "## Bonus\n",
        "\n",
        "There are many things left unexplored! Consider investigating something about gross revenue and genres."
      ]
    },
    {
      "cell_type": "code",
      "metadata": {
        "id": "bHwoXfXtSRx2",
        "colab_type": "code",
        "colab": {}
      },
      "source": [
        "# histogram of gross sales"
      ],
      "execution_count": 0,
      "outputs": []
    },
    {
      "cell_type": "code",
      "metadata": {
        "id": "pKN42KhlSRx4",
        "colab_type": "code",
        "colab": {}
      },
      "source": [
        "# top 10 grossing films"
      ],
      "execution_count": 0,
      "outputs": []
    }
  ]
}